{
 "cells": [
  {
   "cell_type": "code",
   "execution_count": 2,
   "metadata": {},
   "outputs": [],
   "source": [
    "# Importing necessary libraries\n",
    "import pandas as pd\n",
    "import numpy as np\n",
    "import matplotlib.pyplot as plt\n",
    "%matplotlib inline \n",
    "import seaborn as sns\n",
    "from IPython import get_ipython\n",
    "import warnings\n",
    "warnings.filterwarnings('ignore')"
   ]
  },
  {
   "cell_type": "markdown",
   "metadata": {},
   "source": [
    "# These code below will need to be exported in python code format."
   ]
  },
  {
   "cell_type": "code",
   "execution_count": 3,
   "metadata": {},
   "outputs": [],
   "source": [
    "# loading dataset \n",
    "data_movies = pd.read_csv('./tmdb_5000_movies.csv')\n",
    "data_credits = pd.read_csv('./tmdb_5000_credits.csv')"
   ]
  },
  {
   "cell_type": "code",
   "execution_count": 4,
   "metadata": {},
   "outputs": [],
   "source": [
    "# merge two dataset into one \n",
    "data_movies =  data_movies.merge(data_credits, on = 'title')"
   ]
  },
  {
   "cell_type": "code",
   "execution_count": 5,
   "metadata": {},
   "outputs": [
    {
     "data": {
      "text/plain": [
       "(4809, 23)"
      ]
     },
     "execution_count": 5,
     "metadata": {},
     "output_type": "execute_result"
    }
   ],
   "source": [
    "data_movies.shape"
   ]
  },
  {
   "cell_type": "code",
   "execution_count": 6,
   "metadata": {},
   "outputs": [],
   "source": [
    "\n",
    "import streamlit as st\n",
    "import pickle \n",
    "import pandas as pd \n",
    "import warnings\n",
    "warnings.filterwarnings('ignore')\n",
    "\n",
    "def recommend (movie):\n",
    "    movie_index = data_movies[data_movies['title'] == movie].index[0] ## fetching the movie index\n",
    "    distances = similarity[movie_index]\n",
    "    movie_list = sorted(list(enumerate(distances)),reverse = True, key = lambda x : x[1])[1:6]\n",
    "    \n",
    "    recommended_movies = []\n",
    "    \n",
    "    for i in movie_list:\n",
    "        recommended_movies.append(data_movies.iloc[i[0]].title)\n",
    "    return recommended_movies\n",
    "\n",
    "\n",
    "movies_dict = pickle.load(open('similarity.pkl','rb'))\n",
    "movies = pd.DataFrame(movies_dict)\n",
    "\n",
    "similarity = pickle.load(open('similarity.pkl','rb'))\n",
    "\n",
    "st.title('Movie Recommender System') # set title of movie recommender\n",
    "\n",
    "option = st.selectbox('Select your movie: ', data_movies['title'].values)\n",
    "\n",
    "# create a recommend button on the page\n",
    "if st.button('Recommender'):\n",
    "    recommendations = recommend(option)\n",
    "    for i in recommendations:\n",
    "        \n",
    "        st.write(i)"
   ]
  },
  {
   "cell_type": "code",
   "execution_count": 7,
   "metadata": {},
   "outputs": [],
   "source": [
    "# streamlit run app.py # write on command prompt with a proper path "
   ]
  }
 ],
 "metadata": {
  "kernelspec": {
   "display_name": "Python 3",
   "language": "python",
   "name": "python3"
  },
  "language_info": {
   "codemirror_mode": {
    "name": "ipython",
    "version": 3
   },
   "file_extension": ".py",
   "mimetype": "text/x-python",
   "name": "python",
   "nbconvert_exporter": "python",
   "pygments_lexer": "ipython3",
   "version": "3.11.1"
  },
  "orig_nbformat": 4,
  "vscode": {
   "interpreter": {
    "hash": "1f6a27bcfbe46a917dbd192f4a82657396dda26148bae633192e8d28c70725f1"
   }
  }
 },
 "nbformat": 4,
 "nbformat_minor": 2
}
